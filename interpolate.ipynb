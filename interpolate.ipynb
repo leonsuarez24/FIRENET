{
 "cells": [
  {
   "cell_type": "code",
   "execution_count": 2,
   "metadata": {},
   "outputs": [],
   "source": [
    "import os\n",
    "import pandas as pd\n",
    "import numpy as np\n",
    "import matplotlib.pyplot as plt\n",
    "import geopandas as gpd\n",
    "import verde as vd\n",
    "from datetime import datetime\n"
   ]
  },
  {
   "cell_type": "code",
   "execution_count": 3,
   "metadata": {},
   "outputs": [
    {
     "name": "stdout",
     "output_type": "stream",
     "text": [
      "Procesando datos para el año 2000...\n",
      "Procesando datos para el año 2001...\n",
      "Procesando datos para el año 2002...\n",
      "Procesando datos para el año 2003...\n",
      "Procesando datos para el año 2004...\n",
      "Procesando datos para el año 2005...\n",
      "Procesando datos para el año 2006...\n",
      "Procesando datos para el año 2007...\n",
      "Procesando datos para el año 2008...\n",
      "Procesando datos para el año 2009...\n",
      "Procesando datos para el año 2010...\n",
      "Procesando datos para el año 2011...\n",
      "Procesando datos para el año 2012...\n",
      "Procesando datos para el año 2013...\n"
     ]
    },
    {
     "name": "stderr",
     "output_type": "stream",
     "text": [
      "C:\\Users\\LUISRODRIGUEZ\\AppData\\Local\\Temp\\ipykernel_13216\\661521408.py:46: UserWarning: Creating legend with loc=\"best\" can be slow with large amounts of data.\n",
      "  plt.savefig(png_file_path, dpi=300)\n"
     ]
    },
    {
     "name": "stdout",
     "output_type": "stream",
     "text": [
      "Procesando datos para el año 2014...\n",
      "Procesando datos para el año 2015...\n",
      "Procesando datos para el año 2016...\n",
      "Procesando datos para el año 2018...\n"
     ]
    },
    {
     "name": "stderr",
     "output_type": "stream",
     "text": [
      "C:\\Users\\LUISRODRIGUEZ\\AppData\\Local\\Temp\\ipykernel_13216\\661521408.py:46: UserWarning: Creating legend with loc=\"best\" can be slow with large amounts of data.\n",
      "  plt.savefig(png_file_path, dpi=300)\n"
     ]
    },
    {
     "name": "stdout",
     "output_type": "stream",
     "text": [
      "Procesando datos para el año 2019...\n",
      "Procesando datos para el año 2017...\n",
      "Procesando datos para el año 2022...\n",
      "Procesando datos para el año 2023...\n"
     ]
    },
    {
     "name": "stderr",
     "output_type": "stream",
     "text": [
      "C:\\Users\\LUISRODRIGUEZ\\AppData\\Local\\Temp\\ipykernel_13216\\661521408.py:46: UserWarning: Creating legend with loc=\"best\" can be slow with large amounts of data.\n",
      "  plt.savefig(png_file_path, dpi=300)\n"
     ]
    },
    {
     "name": "stdout",
     "output_type": "stream",
     "text": [
      "Procesando datos para el año 2024...\n",
      "No se encontraron datos para la fecha 2024-11-01 00:00:00\n",
      "No se encontraron datos para la fecha 2024-12-01 00:00:00\n",
      "Procesando datos para el año 2020...\n",
      "Procesando datos para el año 2021...\n",
      "Proceso completado para todos los años y meses.\n"
     ]
    }
   ],
   "source": [
    "# Función para guardar los resultados\n",
    "def guardar_resultados(grid, grid_temperatura, fecha_objetivo, region, latitudes, longitudes, temperaturas, colombia_shapefile):\n",
    "    # Crear las carpetas si no existen\n",
    "    output_npy_dir = 'data/tmean_interp_final/npy'\n",
    "    output_png_dir = 'data/tmean_interp_final/png'\n",
    "    os.makedirs(output_npy_dir, exist_ok=True)\n",
    "    os.makedirs(output_png_dir, exist_ok=True)\n",
    "\n",
    "    # Guardar la grilla de temperaturas como un archivo .npy\n",
    "    npy_file_path = os.path.join(output_npy_dir, f'temperatura_{fecha_objetivo}.npy')\n",
    "    np.save(npy_file_path, grid_temperatura)\n",
    "\n",
    "    # Cargar el archivo de límites administrativos de Colombia con Geopandas\n",
    "    gdf = gpd.read_file(colombia_shapefile)\n",
    "\n",
    "    # Reproyectar los datos geográficos a WGS84 (EPSG:4326)\n",
    "    if gdf.crs != \"EPSG:4326\":\n",
    "        gdf = gdf.to_crs(\"EPSG:4326\")\n",
    "\n",
    "    # Filtrar para mostrar solo el departamento de Santander\n",
    "    santander_gdf = gdf[gdf['DeNombre'] == 'Santander']  # Asegúrate de que coincida con el nombre en el archivo\n",
    "\n",
    "    # Graficar el mapa de temperatura interpolado\n",
    "    plt.figure(figsize=(10, 8))\n",
    "    plt.pcolormesh(grid[0], grid[1], grid_temperatura, cmap='coolwarm', shading='auto')\n",
    "    plt.colorbar(label='Temperatura (°C)')\n",
    "\n",
    "    # Graficar los puntos de datos originales\n",
    "    plt.scatter(longitudes, latitudes, c=temperaturas, s=10, edgecolor='k', cmap='coolwarm', label='Datos originales')\n",
    "\n",
    "    # Superponer los límites geográficos de los municipios de Santander\n",
    "    santander_gdf.boundary.plot(ax=plt.gca(), linewidth=1, edgecolor=\"black\", label=\"Límites de Santander\")\n",
    "\n",
    "    # Limitar los ejes al área de interés\n",
    "    plt.xlim(region[0], region[1])\n",
    "    plt.ylim(region[2], region[3])\n",
    "\n",
    "    # Etiquetas y título\n",
    "    plt.xlabel('Longitud')\n",
    "    plt.ylabel('Latitud')\n",
    "    plt.title(f'Mapa denso de temperatura (Interpolación) para la fecha {fecha_objetivo}')\n",
    "    plt.legend()\n",
    "\n",
    "    # Guardar el gráfico como PNG\n",
    "    png_file_path = os.path.join(output_png_dir, f'temperatura_{fecha_objetivo}.png')\n",
    "    plt.savefig(png_file_path, dpi=300)\n",
    "    plt.close()\n",
    "\n",
    "# Leer los datos desde un archivo Excel\n",
    "data = pd.read_excel('data/tmean.xlsx')\n",
    "data['Fecha'] = pd.to_datetime(data['Fecha'])\n",
    "\n",
    "# Definir la región de interés\n",
    "region = ((-74.6), (-72.4), (5.5), (8.2))  # Latitudes y longitudes de la región de interés\n",
    "spacing = 0.01  # Espaciado entre los puntos de la malla\n",
    "\n",
    "# Obtener los años disponibles en los datos\n",
    "años_disponibles = data['Fecha'].dt.year.unique()\n",
    "\n",
    "# Iterar sobre todos los años disponibles\n",
    "for anio in años_disponibles:\n",
    "    print(f\"Procesando datos para el año {anio}...\")\n",
    "\n",
    "    # Iterar sobre los meses de cada año\n",
    "    for mes in range(1, 13):\n",
    "        # Filtrar los datos para el primer día de cada mes\n",
    "        fecha_objetivo = datetime(anio, mes, 1)\n",
    "        data_fecha = data[data['Fecha'] == fecha_objetivo]\n",
    "\n",
    "        if data_fecha.empty:\n",
    "            print(f\"No se encontraron datos para la fecha {fecha_objetivo}\")\n",
    "            continue\n",
    "\n",
    "        # Extraer las columnas relevantes\n",
    "        latitudes = data_fecha['Latitud'].values\n",
    "        longitudes = data_fecha['Longitud'].values\n",
    "        temperaturas = data_fecha['Valor_medio'].values\n",
    "\n",
    "        # Crear una malla densa para la interpolación\n",
    "        grid = vd.grid_coordinates(region, spacing=spacing)\n",
    "\n",
    "        # Interpolación usando Verde Spline\n",
    "        interp = vd.Spline()  # Configurar el interpolador Spline\n",
    "        interp.fit((longitudes, latitudes), temperaturas)  # Ajustar el interpolador a los datos\n",
    "\n",
    "        # Predecir valores en la malla densa\n",
    "        grid_temperatura = interp.predict(grid)\n",
    "\n",
    "        # Guardar los resultados: grilla en .npy y gráfico en .png\n",
    "        guardar_resultados(grid, grid_temperatura, fecha_objetivo.strftime('%Y-%m-%d'), region, latitudes, longitudes, temperaturas, 'data/aoi/Departamento.shp')\n",
    "\n",
    "print(\"Proceso completado para todos los años y meses.\")\n"
   ]
  }
 ],
 "metadata": {
  "kernelspec": {
   "display_name": ".venv",
   "language": "python",
   "name": "python3"
  },
  "language_info": {
   "codemirror_mode": {
    "name": "ipython",
    "version": 3
   },
   "file_extension": ".py",
   "mimetype": "text/x-python",
   "name": "python",
   "nbconvert_exporter": "python",
   "pygments_lexer": "ipython3",
   "version": "3.11.9"
  }
 },
 "nbformat": 4,
 "nbformat_minor": 2
}
