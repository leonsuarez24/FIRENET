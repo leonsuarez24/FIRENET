{
 "cells": [
  {
   "cell_type": "code",
   "execution_count": 1,
   "metadata": {},
   "outputs": [],
   "source": [
    "import pandas as pd\n",
    "import matplotlib.pyplot as plt\n",
    "import glob\n",
    "import geopandas as gpd\n",
    "import numpy as np\n",
    "import plotly.graph_objects as go\n",
    "\n",
    "\n",
    "\n",
    "# Cargar el archivo tmin.xlsx que contiene los municipios de cada estación\n",
    "tmin_path = '../data/tmin.xlsx'\n",
    "tmin_df = pd.read_excel(tmin_path)\n",
    "\n",
    "# Cargar el archivo tmean.xlsx en el que queremos agregar la columna 'Municipio'\n",
    "tmean_path = '../data/tmean.xlsx'\n",
    "tmean_df = pd.read_excel(tmean_path)\n",
    "\n",
    "# Realizar el merge para agregar la columna 'Municipio' al archivo tmean.xlsx usando 'CodigoEstacion'\n",
    "estaciones_df = pd.merge(tmean_df, tmin_df[['CodigoEstacion', 'Municipio']], on='CodigoEstacion', how='left')\n",
    "estaciones_df = estaciones_df.drop_duplicates()"
   ]
  },
  {
   "cell_type": "code",
   "execution_count": 6,
   "metadata": {},
   "outputs": [
    {
     "name": "stderr",
     "output_type": "stream",
     "text": [
      "C:\\Users\\LUISRODRIGUEZ\\AppData\\Local\\Temp\\ipykernel_19500\\1651751610.py:7: UserWarning: The argument 'infer_datetime_format' is deprecated and will be removed in a future version. A strict version of it is now the default, see https://pandas.pydata.org/pdeps/0004-consistent-to-datetime-parsing.html. You can safely remove this argument.\n",
      "  santander_delitos_df['FECHA HECHO'] = pd.to_datetime(santander_delitos_df['FECHA HECHO'], dayfirst=True, infer_datetime_format=True)\n",
      "C:\\Users\\LUISRODRIGUEZ\\AppData\\Local\\Temp\\ipykernel_19500\\1651751610.py:7: SettingWithCopyWarning: \n",
      "A value is trying to be set on a copy of a slice from a DataFrame.\n",
      "Try using .loc[row_indexer,col_indexer] = value instead\n",
      "\n",
      "See the caveats in the documentation: https://pandas.pydata.org/pandas-docs/stable/user_guide/indexing.html#returning-a-view-versus-a-copy\n",
      "  santander_delitos_df['FECHA HECHO'] = pd.to_datetime(santander_delitos_df['FECHA HECHO'], dayfirst=True, infer_datetime_format=True)\n"
     ]
    }
   ],
   "source": [
    "# Cargar el archivo CSV con los reportes de delitos\n",
    "csv_path = '../data/delitos.csv'\n",
    "delitos_df = pd.read_csv(csv_path)\n",
    "\n",
    "# Filtrar el departamento \"Santander\" y convertir fechas a formato datetime\n",
    "santander_delitos_df = delitos_df[delitos_df['DEPARTAMENTO'] == 'SANTANDER']\n",
    "santander_delitos_df['FECHA HECHO'] = pd.to_datetime(santander_delitos_df['FECHA HECHO'], dayfirst=True, infer_datetime_format=True)\n",
    "\n",
    "\n",
    "# Agrupar los delitos por mes y municipio\n",
    "delitos_mes_df = santander_delitos_df.groupby([santander_delitos_df['FECHA HECHO'].dt.to_period('M'), 'MUNICIPIO']).size().reset_index(name='casos')\n",
    "delitos_mes_df['FECHA HECHO'] = delitos_mes_df['FECHA HECHO'].dt.to_timestamp()"
   ]
  },
  {
   "cell_type": "code",
   "execution_count": 7,
   "metadata": {},
   "outputs": [
    {
     "data": {
      "text/html": [
       "<div>\n",
       "<style scoped>\n",
       "    .dataframe tbody tr th:only-of-type {\n",
       "        vertical-align: middle;\n",
       "    }\n",
       "\n",
       "    .dataframe tbody tr th {\n",
       "        vertical-align: top;\n",
       "    }\n",
       "\n",
       "    .dataframe thead th {\n",
       "        text-align: right;\n",
       "    }\n",
       "</style>\n",
       "<table border=\"1\" class=\"dataframe\">\n",
       "  <thead>\n",
       "    <tr style=\"text-align: right;\">\n",
       "      <th></th>\n",
       "      <th>CodigoEstacion</th>\n",
       "      <th>Latitud</th>\n",
       "      <th>Longitud</th>\n",
       "      <th>Altitud</th>\n",
       "      <th>Fecha</th>\n",
       "      <th>Valor_max</th>\n",
       "      <th>Valor_min</th>\n",
       "      <th>Valor_medio</th>\n",
       "      <th>Municipio</th>\n",
       "    </tr>\n",
       "  </thead>\n",
       "  <tbody>\n",
       "    <tr>\n",
       "      <th>0</th>\n",
       "      <td>23195502</td>\n",
       "      <td>7.121472</td>\n",
       "      <td>-73.184528</td>\n",
       "      <td>1189</td>\n",
       "      <td>2000-01-01</td>\n",
       "      <td>23.965188</td>\n",
       "      <td>17.560887</td>\n",
       "      <td>20.763038</td>\n",
       "      <td>Lebrija</td>\n",
       "    </tr>\n",
       "    <tr>\n",
       "      <th>214</th>\n",
       "      <td>23195502</td>\n",
       "      <td>7.121472</td>\n",
       "      <td>-73.184528</td>\n",
       "      <td>1189</td>\n",
       "      <td>2000-02-01</td>\n",
       "      <td>24.037069</td>\n",
       "      <td>17.985632</td>\n",
       "      <td>21.011351</td>\n",
       "      <td>Lebrija</td>\n",
       "    </tr>\n",
       "    <tr>\n",
       "      <th>428</th>\n",
       "      <td>23195502</td>\n",
       "      <td>7.121472</td>\n",
       "      <td>-73.184528</td>\n",
       "      <td>1189</td>\n",
       "      <td>2000-03-01</td>\n",
       "      <td>24.156183</td>\n",
       "      <td>18.191250</td>\n",
       "      <td>21.173716</td>\n",
       "      <td>Lebrija</td>\n",
       "    </tr>\n",
       "    <tr>\n",
       "      <th>642</th>\n",
       "      <td>23195502</td>\n",
       "      <td>7.121472</td>\n",
       "      <td>-73.184528</td>\n",
       "      <td>1189</td>\n",
       "      <td>2000-04-01</td>\n",
       "      <td>24.881111</td>\n",
       "      <td>18.677917</td>\n",
       "      <td>21.779514</td>\n",
       "      <td>Lebrija</td>\n",
       "    </tr>\n",
       "    <tr>\n",
       "      <th>856</th>\n",
       "      <td>23195502</td>\n",
       "      <td>7.121472</td>\n",
       "      <td>-73.184528</td>\n",
       "      <td>1189</td>\n",
       "      <td>2000-05-01</td>\n",
       "      <td>24.751049</td>\n",
       "      <td>18.933286</td>\n",
       "      <td>21.842167</td>\n",
       "      <td>Lebrija</td>\n",
       "    </tr>\n",
       "    <tr>\n",
       "      <th>...</th>\n",
       "      <td>...</td>\n",
       "      <td>...</td>\n",
       "      <td>...</td>\n",
       "      <td>...</td>\n",
       "      <td>...</td>\n",
       "      <td>...</td>\n",
       "      <td>...</td>\n",
       "      <td>...</td>\n",
       "      <td>...</td>\n",
       "    </tr>\n",
       "    <tr>\n",
       "      <th>1240654</th>\n",
       "      <td>24055030</td>\n",
       "      <td>6.792778</td>\n",
       "      <td>-73.282750</td>\n",
       "      <td>1810</td>\n",
       "      <td>2024-06-01</td>\n",
       "      <td>24.594444</td>\n",
       "      <td>14.843889</td>\n",
       "      <td>19.719167</td>\n",
       "      <td>Zapatoca</td>\n",
       "    </tr>\n",
       "    <tr>\n",
       "      <th>1240885</th>\n",
       "      <td>24055030</td>\n",
       "      <td>6.792778</td>\n",
       "      <td>-73.282750</td>\n",
       "      <td>1810</td>\n",
       "      <td>2024-07-01</td>\n",
       "      <td>25.022043</td>\n",
       "      <td>14.602151</td>\n",
       "      <td>19.812097</td>\n",
       "      <td>Zapatoca</td>\n",
       "    </tr>\n",
       "    <tr>\n",
       "      <th>1241116</th>\n",
       "      <td>24055030</td>\n",
       "      <td>6.792778</td>\n",
       "      <td>-73.282750</td>\n",
       "      <td>1810</td>\n",
       "      <td>2024-08-01</td>\n",
       "      <td>24.841398</td>\n",
       "      <td>14.027299</td>\n",
       "      <td>19.434348</td>\n",
       "      <td>Zapatoca</td>\n",
       "    </tr>\n",
       "    <tr>\n",
       "      <th>1241347</th>\n",
       "      <td>24055030</td>\n",
       "      <td>6.792778</td>\n",
       "      <td>-73.282750</td>\n",
       "      <td>1810</td>\n",
       "      <td>2024-09-01</td>\n",
       "      <td>25.015000</td>\n",
       "      <td>13.905833</td>\n",
       "      <td>19.460417</td>\n",
       "      <td>Zapatoca</td>\n",
       "    </tr>\n",
       "    <tr>\n",
       "      <th>1241578</th>\n",
       "      <td>24055030</td>\n",
       "      <td>6.792778</td>\n",
       "      <td>-73.282750</td>\n",
       "      <td>1810</td>\n",
       "      <td>2024-10-01</td>\n",
       "      <td>24.392963</td>\n",
       "      <td>14.337366</td>\n",
       "      <td>19.365165</td>\n",
       "      <td>Zapatoca</td>\n",
       "    </tr>\n",
       "  </tbody>\n",
       "</table>\n",
       "<p>5203 rows × 9 columns</p>\n",
       "</div>"
      ],
      "text/plain": [
       "         CodigoEstacion   Latitud   Longitud  Altitud      Fecha  Valor_max  \\\n",
       "0              23195502  7.121472 -73.184528     1189 2000-01-01  23.965188   \n",
       "214            23195502  7.121472 -73.184528     1189 2000-02-01  24.037069   \n",
       "428            23195502  7.121472 -73.184528     1189 2000-03-01  24.156183   \n",
       "642            23195502  7.121472 -73.184528     1189 2000-04-01  24.881111   \n",
       "856            23195502  7.121472 -73.184528     1189 2000-05-01  24.751049   \n",
       "...                 ...       ...        ...      ...        ...        ...   \n",
       "1240654        24055030  6.792778 -73.282750     1810 2024-06-01  24.594444   \n",
       "1240885        24055030  6.792778 -73.282750     1810 2024-07-01  25.022043   \n",
       "1241116        24055030  6.792778 -73.282750     1810 2024-08-01  24.841398   \n",
       "1241347        24055030  6.792778 -73.282750     1810 2024-09-01  25.015000   \n",
       "1241578        24055030  6.792778 -73.282750     1810 2024-10-01  24.392963   \n",
       "\n",
       "         Valor_min  Valor_medio Municipio  \n",
       "0        17.560887    20.763038   Lebrija  \n",
       "214      17.985632    21.011351   Lebrija  \n",
       "428      18.191250    21.173716   Lebrija  \n",
       "642      18.677917    21.779514   Lebrija  \n",
       "856      18.933286    21.842167   Lebrija  \n",
       "...            ...          ...       ...  \n",
       "1240654  14.843889    19.719167  Zapatoca  \n",
       "1240885  14.602151    19.812097  Zapatoca  \n",
       "1241116  14.027299    19.434348  Zapatoca  \n",
       "1241347  13.905833    19.460417  Zapatoca  \n",
       "1241578  14.337366    19.365165  Zapatoca  \n",
       "\n",
       "[5203 rows x 9 columns]"
      ]
     },
     "execution_count": 7,
     "metadata": {},
     "output_type": "execute_result"
    }
   ],
   "source": [
    "estaciones_df"
   ]
  },
  {
   "cell_type": "code",
   "execution_count": 8,
   "metadata": {},
   "outputs": [
    {
     "data": {
      "text/html": [
       "<div>\n",
       "<style scoped>\n",
       "    .dataframe tbody tr th:only-of-type {\n",
       "        vertical-align: middle;\n",
       "    }\n",
       "\n",
       "    .dataframe tbody tr th {\n",
       "        vertical-align: top;\n",
       "    }\n",
       "\n",
       "    .dataframe thead th {\n",
       "        text-align: right;\n",
       "    }\n",
       "</style>\n",
       "<table border=\"1\" class=\"dataframe\">\n",
       "  <thead>\n",
       "    <tr style=\"text-align: right;\">\n",
       "      <th></th>\n",
       "      <th>FECHA HECHO</th>\n",
       "      <th>MUNICIPIO</th>\n",
       "      <th>casos</th>\n",
       "    </tr>\n",
       "  </thead>\n",
       "  <tbody>\n",
       "    <tr>\n",
       "      <th>0</th>\n",
       "      <td>2003-01-01</td>\n",
       "      <td>BUCARAMANGA</td>\n",
       "      <td>2</td>\n",
       "    </tr>\n",
       "    <tr>\n",
       "      <th>1</th>\n",
       "      <td>2003-02-01</td>\n",
       "      <td>FLORIDABLANCA</td>\n",
       "      <td>1</td>\n",
       "    </tr>\n",
       "    <tr>\n",
       "      <th>2</th>\n",
       "      <td>2003-04-01</td>\n",
       "      <td>BARRANCABERMEJA</td>\n",
       "      <td>1</td>\n",
       "    </tr>\n",
       "    <tr>\n",
       "      <th>3</th>\n",
       "      <td>2003-07-01</td>\n",
       "      <td>BARRANCABERMEJA</td>\n",
       "      <td>1</td>\n",
       "    </tr>\n",
       "    <tr>\n",
       "      <th>4</th>\n",
       "      <td>2003-07-01</td>\n",
       "      <td>LEBRIJA</td>\n",
       "      <td>1</td>\n",
       "    </tr>\n",
       "    <tr>\n",
       "      <th>...</th>\n",
       "      <td>...</td>\n",
       "      <td>...</td>\n",
       "      <td>...</td>\n",
       "    </tr>\n",
       "    <tr>\n",
       "      <th>2242</th>\n",
       "      <td>2024-09-01</td>\n",
       "      <td>SABANA DE TORRES</td>\n",
       "      <td>5</td>\n",
       "    </tr>\n",
       "    <tr>\n",
       "      <th>2243</th>\n",
       "      <td>2024-09-01</td>\n",
       "      <td>SAN GIL</td>\n",
       "      <td>1</td>\n",
       "    </tr>\n",
       "    <tr>\n",
       "      <th>2244</th>\n",
       "      <td>2024-09-01</td>\n",
       "      <td>SAN JOSE DE MIRANDA</td>\n",
       "      <td>1</td>\n",
       "    </tr>\n",
       "    <tr>\n",
       "      <th>2245</th>\n",
       "      <td>2024-09-01</td>\n",
       "      <td>SOCORRO</td>\n",
       "      <td>2</td>\n",
       "    </tr>\n",
       "    <tr>\n",
       "      <th>2246</th>\n",
       "      <td>2024-09-01</td>\n",
       "      <td>VELEZ</td>\n",
       "      <td>1</td>\n",
       "    </tr>\n",
       "  </tbody>\n",
       "</table>\n",
       "<p>2247 rows × 3 columns</p>\n",
       "</div>"
      ],
      "text/plain": [
       "     FECHA HECHO            MUNICIPIO  casos\n",
       "0     2003-01-01          BUCARAMANGA      2\n",
       "1     2003-02-01        FLORIDABLANCA      1\n",
       "2     2003-04-01      BARRANCABERMEJA      1\n",
       "3     2003-07-01      BARRANCABERMEJA      1\n",
       "4     2003-07-01              LEBRIJA      1\n",
       "...          ...                  ...    ...\n",
       "2242  2024-09-01     SABANA DE TORRES      5\n",
       "2243  2024-09-01              SAN GIL      1\n",
       "2244  2024-09-01  SAN JOSE DE MIRANDA      1\n",
       "2245  2024-09-01              SOCORRO      2\n",
       "2246  2024-09-01                VELEZ      1\n",
       "\n",
       "[2247 rows x 3 columns]"
      ]
     },
     "execution_count": 8,
     "metadata": {},
     "output_type": "execute_result"
    }
   ],
   "source": [
    "delitos_mes_df"
   ]
  },
  {
   "cell_type": "code",
   "execution_count": 9,
   "metadata": {},
   "outputs": [
    {
     "name": "stdout",
     "output_type": "stream",
     "text": [
      "   CodigoEstacion   Latitud   Longitud  Altitud      Fecha  Valor_max  \\\n",
      "0        23195502  7.121472 -73.184528     1189 2003-07-01  25.412097   \n",
      "1        23195502  7.121472 -73.184528     1189 2004-02-01  26.214943   \n",
      "2        23195502  7.121472 -73.184528     1189 2008-08-01  25.710618   \n",
      "3        23195502  7.121472 -73.184528     1189 2009-09-01  27.496806   \n",
      "4        23195502  7.121472 -73.184528     1189 2012-02-01  26.012356   \n",
      "\n",
      "   Valor_min  Valor_medio Municipio  casos  \n",
      "0  18.489382    21.950739   lebrija      1  \n",
      "1  18.770115    22.492529   lebrija      1  \n",
      "2  18.020968    21.865793   lebrija      1  \n",
      "3  18.988611    23.242708   lebrija      1  \n",
      "4  18.295977    22.154167   lebrija      1  \n"
     ]
    }
   ],
   "source": [
    "estaciones_df.rename(columns={'MUNICIPIO': 'Municipio'}, inplace=True)\n",
    "delitos_mes_df.rename(columns={'FECHA HECHO': 'Fecha'}, inplace=True)\n",
    "delitos_mes_df.rename(columns={'MUNICIPIO': 'Municipio'}, inplace=True)\n",
    "\n",
    "# Estandarizar los nombres de municipios en minúsculas en ambos DataFrames\n",
    "estaciones_df['Municipio'] = estaciones_df['Municipio'].str.lower()\n",
    "delitos_mes_df['Municipio'] = delitos_mes_df['Municipio'].str.lower()\n",
    "\n",
    "# Realizar el merge en base a las columnas de fecha y municipio\n",
    "merged_df = pd.merge(estaciones_df, delitos_mes_df, left_on=['Fecha', 'Municipio'], right_on=['Fecha', 'Municipio'], how='inner')\n",
    "\n",
    "# Verificar el resultado\n",
    "print(merged_df.head())"
   ]
  },
  {
   "cell_type": "code",
   "execution_count": 10,
   "metadata": {},
   "outputs": [
    {
     "data": {
      "text/plain": [
       "array(['lebrija', 'barrancabermeja', 'albania', 'tona', 'suratá',\n",
       "       'puerto parra', 'capitanejo', 'el carmen', 'charalá', 'chima',\n",
       "       'cimitarra', 'pinchote', 'mogotes', 'gámbita', 'puerto wilches',\n",
       "       'socorro', 'guadalupe', 'landázuri', 'girón', 'palmar', 'cerrito',\n",
       "       'bucaramanga', 'vélez', 'sabana de torres', 'zapatoca'],\n",
       "      dtype=object)"
      ]
     },
     "execution_count": 10,
     "metadata": {},
     "output_type": "execute_result"
    }
   ],
   "source": [
    "estaciones_df['Municipio'].unique()"
   ]
  },
  {
   "cell_type": "code",
   "execution_count": 28,
   "metadata": {},
   "outputs": [
    {
     "data": {
      "text/plain": [
       "['Bucaramanga',\n",
       " 'Floridablanca',\n",
       " 'Barrancabermeja',\n",
       " 'Lebrija',\n",
       " 'Socorro',\n",
       " 'Sabana de torres',\n",
       " 'San gil',\n",
       " 'Onzaga',\n",
       " 'Suaita',\n",
       " 'Giron',\n",
       " 'Matanza',\n",
       " 'El playon',\n",
       " 'El carmen de chucuri',\n",
       " 'Zapatoca',\n",
       " 'Piedecuesta',\n",
       " 'Chipata',\n",
       " 'Betulia',\n",
       " 'Rionegro',\n",
       " 'Cimitarra',\n",
       " 'Puerto wilches',\n",
       " 'Charala',\n",
       " 'La paz',\n",
       " 'Barbosa',\n",
       " 'California',\n",
       " 'Gambita',\n",
       " 'San andres',\n",
       " 'Simacota',\n",
       " 'Los santos',\n",
       " 'San vicente de chucuri',\n",
       " 'Aratoca',\n",
       " 'Valle de san jose',\n",
       " 'Pinchote',\n",
       " 'Barichara',\n",
       " 'Puerto parra',\n",
       " 'Florian',\n",
       " 'Enciso',\n",
       " 'Confines',\n",
       " 'Galan',\n",
       " 'Bolivar',\n",
       " 'Jesus maria',\n",
       " 'Villanueva',\n",
       " 'Ocamonte',\n",
       " 'San jose de miranda',\n",
       " 'Surata',\n",
       " 'Cerrito',\n",
       " 'El peñon',\n",
       " 'Oiba',\n",
       " 'Concepcion',\n",
       " 'Mogotes',\n",
       " 'Velez',\n",
       " 'Landazuri',\n",
       " 'Aguada',\n",
       " 'Guadalupe',\n",
       " 'Encino',\n",
       " 'Chima',\n",
       " 'Capitanejo',\n",
       " 'Santa helena del opon',\n",
       " 'Malaga',\n",
       " 'Puente nacional',\n",
       " 'Vetas',\n",
       " 'Guavata',\n",
       " 'Paramo',\n",
       " 'San miguel',\n",
       " 'Santa barbara',\n",
       " 'El guacamayo',\n",
       " 'Palmas del socorro',\n",
       " 'Coromoro',\n",
       " 'Contratacion',\n",
       " 'Sucre',\n",
       " 'Guapota',\n",
       " 'La belleza',\n",
       " 'Curiti',\n",
       " 'Tona',\n",
       " 'Molagavita',\n",
       " 'Cepita',\n",
       " 'Guepsa',\n",
       " 'Albania',\n",
       " 'San joaquin',\n",
       " 'Macaravita',\n",
       " 'Charta',\n",
       " 'Guaca',\n",
       " 'Hato',\n",
       " 'San benito',\n",
       " 'Carcasi',\n",
       " 'Güepsa',\n",
       " 'Palmar']"
      ]
     },
     "execution_count": 28,
     "metadata": {},
     "output_type": "execute_result"
    }
   ],
   "source": [
    "municipios_df = delitos_mes_df['Municipio'].str.capitalize().unique()\n",
    "municipios_df = municipios_df.tolist()\n",
    "municipios_df"
   ]
  },
  {
   "cell_type": "code",
   "execution_count": 30,
   "metadata": {},
   "outputs": [
    {
     "name": "stdout",
     "output_type": "stream",
     "text": [
      "Bucaramanga: (7.1255169, -73.1182624)\n",
      "Floridablanca: (7.0625358, -73.0858228)\n",
      "Barrancabermeja: (7.0673313, -73.8525627)\n",
      "Lebrija: (7.1138415, -73.2174056)\n",
      "Socorro: (6.470518, -73.2623187)\n",
      "Sabana de torres: (7.3939416, -73.4998859)\n",
      "San gil: (6.5552856, -73.1312353)\n",
      "Onzaga: (6.3438974, -72.816606)\n",
      "Suaita: (6.1257535999999995, -73.36271466241944)\n",
      "Giron: (7.0732333, -73.1689196)\n",
      "Matanza: (7.3230808, -73.0155679)\n",
      "El playon: (7.52300075, -73.19786585908766)\n",
      "El carmen de chucuri: (6.6986924, -73.5115695)\n",
      "Zapatoca: (6.8166596, -73.2686529)\n",
      "Piedecuesta: (6.9874808, -73.0504129)\n",
      "Chipata: (6.0624774, -73.6372532)\n",
      "Betulia: (6.9006397, -73.2835591)\n",
      "Rionegro: (7.4792888, -73.38270064117279)\n",
      "Cimitarra: (6.3145415, -73.9496809)\n",
      "Puerto wilches: (7.3480175, -73.8979783)\n",
      "Charala: (6.2881742, -73.148289)\n",
      "La paz: (6.1785935, -73.5895841)\n",
      "Barbosa: (5.9326035, -73.6124368)\n",
      "California: (7.3480915, -72.9459294)\n",
      "Gambita: (5.91628015, -73.31589722541469)\n",
      "San andres: (6.8100668, -72.8506351)\n",
      "Simacota: (6.682480549999999, -73.79169247714768)\n",
      "Los santos: (6.8196383, -73.09437586724192)\n",
      "San vicente de chucuri: (6.92877925, -73.52075434629629)\n",
      "Aratoca: (6.6945729, -73.0187027)\n",
      "Valle de san jose: (6.4480153, -73.1443007)\n",
      "Pinchote: (6.5322505, -73.1732298)\n",
      "Barichara: (6.6357156, -73.2234417)\n",
      "Puerto parra: (6.70128855, -73.9774782111397)\n",
      "Florian: (5.786913200000001, -73.97024265744398)\n",
      "Enciso: (6.6498446, -72.68173548149151)\n",
      "Confines: (6.3559746, -73.2409632)\n",
      "Galan: (6.6379098, -73.2874531)\n",
      "Bolivar: (5.9899805, -73.770548)\n",
      "Jesus maria: (5.84962975, -73.83068053057991)\n",
      "Villanueva: (6.6712394, -73.1753984)\n",
      "Ocamonte: (6.3406733, -73.1220123)\n",
      "San jose de miranda: (6.62526745, -72.7366986177611)\n",
      "Surata: (7.3664929, -72.9847362)\n",
      "Cerrito: (6.8435992, -72.6939627)\n",
      "El peñon: (6.0855317499999995, -73.93364854994327)\n",
      "Oiba: (6.23148355, -73.27403107175154)\n",
      "Concepcion: (6.7682934, -72.694484)\n",
      "Mogotes: (6.50244055, -72.97679199973126)\n",
      "Velez: (6.2425777, -73.70512852391471)\n",
      "Landazuri: (6.2205334, -73.8113754)\n",
      "Aguada: (6.162366, -73.5215686)\n",
      "Guadalupe: (6.2468169, -73.4181815)\n",
      "Encino: (6.1380098, -73.0986366)\n",
      "Chima: (6.3443969, -73.3727428)\n",
      "Capitanejo: (6.5291798, -72.6982619)\n",
      "Santa helena del opon: (6.3387975, -73.616366)\n",
      "Malaga: (6.699661, -72.7324563)\n",
      "Puente nacional: (5.8770962, -73.6791063)\n",
      "Vetas: (7.3092643, -72.8718075)\n",
      "Guavata: (5.9542651, -73.6997882)\n",
      "Paramo: (6.416541, -73.1693988)\n",
      "San miguel: (6.5759286, -72.6455489)\n",
      "Santa barbara: (6.9632242, -72.90556454913832)\n",
      "El guacamayo: (6.2452658, -73.4975606)\n",
      "Palmas del socorro: (6.4066247, -73.287918)\n",
      "Coromoro: (6.24050595, -72.99173070370512)\n",
      "Contratacion: (6.290737, -73.4745564)\n",
      "Sucre: (6.015965, -74.012109978448)\n",
      "Guapota: (6.3083058, -73.3212326)\n",
      "La belleza: (5.8588396, -73.9658291)\n",
      "Curiti: (6.61280515, -73.01687869333793)\n",
      "Tona: (7.2020629, -72.9663733)\n",
      "Molagavita: (6.6361117499999995, -72.82142609018902)\n",
      "Cepita: (6.74590095, -72.92942881668318)\n",
      "Guepsa: (6.035725899999999, -73.56632393257743)\n",
      "Albania: (5.7587654, -73.9151617)\n",
      "San joaquin: (6.4710187999999995, -72.84519610985728)\n",
      "Macaravita: (6.5060841, -72.5925353)\n",
      "Charta: (7.2807986, -72.9682259)\n",
      "Guaca: (6.8760761, -72.8557642)\n",
      "Hato: (6.5621066, -73.36473811438437)\n",
      "San benito: (6.10322645, -73.53013869505091)\n",
      "Carcasi: (6.6273516, -72.6260967)\n",
      "Güepsa: (6.035725899999999, -73.56632393257743)\n",
      "Palmar: (6.538635, -73.2916928)\n",
      "          Municipio   Latitud   Longitud\n",
      "0       Bucaramanga  7.125517 -73.118262\n",
      "1     Floridablanca  7.062536 -73.085823\n",
      "2   Barrancabermeja  7.067331 -73.852563\n",
      "3           Lebrija  7.113842 -73.217406\n",
      "4           Socorro  6.470518 -73.262319\n",
      "..              ...       ...        ...\n",
      "81             Hato  6.562107 -73.364738\n",
      "82       San benito  6.103226 -73.530139\n",
      "83          Carcasi  6.627352 -72.626097\n",
      "84           Güepsa  6.035726 -73.566324\n",
      "85           Palmar  6.538635 -73.291693\n",
      "\n",
      "[86 rows x 3 columns]\n"
     ]
    }
   ],
   "source": [
    "from geopy.geocoders import Nominatim\n",
    "import pandas as pd\n",
    "import time\n",
    "\n",
    "# Inicializar el geocodificador de OpenStreetMap\n",
    "geolocator = Nominatim(user_agent=\"nombre_unico_de_aplicacion\")\n",
    "\n",
    "# Diccionario para guardar resultados\n",
    "data = {\"Municipio\": [], \"Latitud\": [], \"Longitud\": []}\n",
    "\n",
    "# Obtener coordenadas\n",
    "for municipio in municipios_df:\n",
    "    location = geolocator.geocode(f\"{municipio}, Santander, Colombia\")\n",
    "    if location:\n",
    "        data[\"Municipio\"].append(municipio)\n",
    "        data[\"Latitud\"].append(location.latitude)\n",
    "        data[\"Longitud\"].append(location.longitude)\n",
    "        print(f\"{municipio}: ({location.latitude}, {location.longitude})\")\n",
    "    else:\n",
    "        print(f\"No se encontraron coordenadas para {municipio}\")\n",
    "    time.sleep(1)  # Esperar para no sobrecargar la API\n",
    "\n",
    "# Convertir a DataFrame\n",
    "df = pd.DataFrame(data)\n",
    "print(df)"
   ]
  },
  {
   "cell_type": "code",
   "execution_count": 36,
   "metadata": {},
   "outputs": [
    {
     "data": {
      "text/html": [
       "<div>\n",
       "<style scoped>\n",
       "    .dataframe tbody tr th:only-of-type {\n",
       "        vertical-align: middle;\n",
       "    }\n",
       "\n",
       "    .dataframe tbody tr th {\n",
       "        vertical-align: top;\n",
       "    }\n",
       "\n",
       "    .dataframe thead th {\n",
       "        text-align: right;\n",
       "    }\n",
       "</style>\n",
       "<table border=\"1\" class=\"dataframe\">\n",
       "  <thead>\n",
       "    <tr style=\"text-align: right;\">\n",
       "      <th></th>\n",
       "      <th>Municipio</th>\n",
       "      <th>Latitud</th>\n",
       "      <th>Longitud</th>\n",
       "    </tr>\n",
       "  </thead>\n",
       "  <tbody>\n",
       "    <tr>\n",
       "      <th>0</th>\n",
       "      <td>Bucaramanga</td>\n",
       "      <td>7.125517</td>\n",
       "      <td>-73.118262</td>\n",
       "    </tr>\n",
       "    <tr>\n",
       "      <th>1</th>\n",
       "      <td>Floridablanca</td>\n",
       "      <td>7.062536</td>\n",
       "      <td>-73.085823</td>\n",
       "    </tr>\n",
       "    <tr>\n",
       "      <th>2</th>\n",
       "      <td>Barrancabermeja</td>\n",
       "      <td>7.067331</td>\n",
       "      <td>-73.852563</td>\n",
       "    </tr>\n",
       "    <tr>\n",
       "      <th>3</th>\n",
       "      <td>Lebrija</td>\n",
       "      <td>7.113842</td>\n",
       "      <td>-73.217406</td>\n",
       "    </tr>\n",
       "    <tr>\n",
       "      <th>4</th>\n",
       "      <td>Socorro</td>\n",
       "      <td>6.470518</td>\n",
       "      <td>-73.262319</td>\n",
       "    </tr>\n",
       "    <tr>\n",
       "      <th>...</th>\n",
       "      <td>...</td>\n",
       "      <td>...</td>\n",
       "      <td>...</td>\n",
       "    </tr>\n",
       "    <tr>\n",
       "      <th>81</th>\n",
       "      <td>Hato</td>\n",
       "      <td>6.562107</td>\n",
       "      <td>-73.364738</td>\n",
       "    </tr>\n",
       "    <tr>\n",
       "      <th>82</th>\n",
       "      <td>San benito</td>\n",
       "      <td>6.103226</td>\n",
       "      <td>-73.530139</td>\n",
       "    </tr>\n",
       "    <tr>\n",
       "      <th>83</th>\n",
       "      <td>Carcasi</td>\n",
       "      <td>6.627352</td>\n",
       "      <td>-72.626097</td>\n",
       "    </tr>\n",
       "    <tr>\n",
       "      <th>84</th>\n",
       "      <td>Güepsa</td>\n",
       "      <td>6.035726</td>\n",
       "      <td>-73.566324</td>\n",
       "    </tr>\n",
       "    <tr>\n",
       "      <th>85</th>\n",
       "      <td>Palmar</td>\n",
       "      <td>6.538635</td>\n",
       "      <td>-73.291693</td>\n",
       "    </tr>\n",
       "  </tbody>\n",
       "</table>\n",
       "<p>86 rows × 3 columns</p>\n",
       "</div>"
      ],
      "text/plain": [
       "          Municipio   Latitud   Longitud\n",
       "0       Bucaramanga  7.125517 -73.118262\n",
       "1     Floridablanca  7.062536 -73.085823\n",
       "2   Barrancabermeja  7.067331 -73.852563\n",
       "3           Lebrija  7.113842 -73.217406\n",
       "4           Socorro  6.470518 -73.262319\n",
       "..              ...       ...        ...\n",
       "81             Hato  6.562107 -73.364738\n",
       "82       San benito  6.103226 -73.530139\n",
       "83          Carcasi  6.627352 -72.626097\n",
       "84           Güepsa  6.035726 -73.566324\n",
       "85           Palmar  6.538635 -73.291693\n",
       "\n",
       "[86 rows x 3 columns]"
      ]
     },
     "execution_count": 36,
     "metadata": {},
     "output_type": "execute_result"
    }
   ],
   "source": [
    "df"
   ]
  },
  {
   "cell_type": "code",
   "execution_count": 34,
   "metadata": {},
   "outputs": [
    {
     "data": {
      "text/html": [
       "<div>\n",
       "<style scoped>\n",
       "    .dataframe tbody tr th:only-of-type {\n",
       "        vertical-align: middle;\n",
       "    }\n",
       "\n",
       "    .dataframe tbody tr th {\n",
       "        vertical-align: top;\n",
       "    }\n",
       "\n",
       "    .dataframe thead th {\n",
       "        text-align: right;\n",
       "    }\n",
       "</style>\n",
       "<table border=\"1\" class=\"dataframe\">\n",
       "  <thead>\n",
       "    <tr style=\"text-align: right;\">\n",
       "      <th></th>\n",
       "      <th>Fecha</th>\n",
       "      <th>Municipio</th>\n",
       "      <th>casos</th>\n",
       "    </tr>\n",
       "  </thead>\n",
       "  <tbody>\n",
       "    <tr>\n",
       "      <th>0</th>\n",
       "      <td>2003-01-01</td>\n",
       "      <td>Bucaramanga</td>\n",
       "      <td>2</td>\n",
       "    </tr>\n",
       "    <tr>\n",
       "      <th>1</th>\n",
       "      <td>2003-02-01</td>\n",
       "      <td>Floridablanca</td>\n",
       "      <td>1</td>\n",
       "    </tr>\n",
       "    <tr>\n",
       "      <th>2</th>\n",
       "      <td>2003-04-01</td>\n",
       "      <td>Barrancabermeja</td>\n",
       "      <td>1</td>\n",
       "    </tr>\n",
       "    <tr>\n",
       "      <th>3</th>\n",
       "      <td>2003-07-01</td>\n",
       "      <td>Barrancabermeja</td>\n",
       "      <td>1</td>\n",
       "    </tr>\n",
       "    <tr>\n",
       "      <th>4</th>\n",
       "      <td>2003-07-01</td>\n",
       "      <td>Lebrija</td>\n",
       "      <td>1</td>\n",
       "    </tr>\n",
       "    <tr>\n",
       "      <th>...</th>\n",
       "      <td>...</td>\n",
       "      <td>...</td>\n",
       "      <td>...</td>\n",
       "    </tr>\n",
       "    <tr>\n",
       "      <th>2242</th>\n",
       "      <td>2024-09-01</td>\n",
       "      <td>Sabana de torres</td>\n",
       "      <td>5</td>\n",
       "    </tr>\n",
       "    <tr>\n",
       "      <th>2243</th>\n",
       "      <td>2024-09-01</td>\n",
       "      <td>San gil</td>\n",
       "      <td>1</td>\n",
       "    </tr>\n",
       "    <tr>\n",
       "      <th>2244</th>\n",
       "      <td>2024-09-01</td>\n",
       "      <td>San jose de miranda</td>\n",
       "      <td>1</td>\n",
       "    </tr>\n",
       "    <tr>\n",
       "      <th>2245</th>\n",
       "      <td>2024-09-01</td>\n",
       "      <td>Socorro</td>\n",
       "      <td>2</td>\n",
       "    </tr>\n",
       "    <tr>\n",
       "      <th>2246</th>\n",
       "      <td>2024-09-01</td>\n",
       "      <td>Velez</td>\n",
       "      <td>1</td>\n",
       "    </tr>\n",
       "  </tbody>\n",
       "</table>\n",
       "<p>2247 rows × 3 columns</p>\n",
       "</div>"
      ],
      "text/plain": [
       "          Fecha            Municipio  casos\n",
       "0    2003-01-01          Bucaramanga      2\n",
       "1    2003-02-01        Floridablanca      1\n",
       "2    2003-04-01      Barrancabermeja      1\n",
       "3    2003-07-01      Barrancabermeja      1\n",
       "4    2003-07-01              Lebrija      1\n",
       "...         ...                  ...    ...\n",
       "2242 2024-09-01     Sabana de torres      5\n",
       "2243 2024-09-01              San gil      1\n",
       "2244 2024-09-01  San jose de miranda      1\n",
       "2245 2024-09-01              Socorro      2\n",
       "2246 2024-09-01                Velez      1\n",
       "\n",
       "[2247 rows x 3 columns]"
      ]
     },
     "execution_count": 34,
     "metadata": {},
     "output_type": "execute_result"
    }
   ],
   "source": [
    "delitos_mes_df['Municipio'] = delitos_mes_df['Municipio'].str.capitalize()\n",
    "delitos_mes_df"
   ]
  },
  {
   "cell_type": "code",
   "execution_count": 38,
   "metadata": {},
   "outputs": [
    {
     "data": {
      "text/html": [
       "<div>\n",
       "<style scoped>\n",
       "    .dataframe tbody tr th:only-of-type {\n",
       "        vertical-align: middle;\n",
       "    }\n",
       "\n",
       "    .dataframe tbody tr th {\n",
       "        vertical-align: top;\n",
       "    }\n",
       "\n",
       "    .dataframe thead th {\n",
       "        text-align: right;\n",
       "    }\n",
       "</style>\n",
       "<table border=\"1\" class=\"dataframe\">\n",
       "  <thead>\n",
       "    <tr style=\"text-align: right;\">\n",
       "      <th></th>\n",
       "      <th>Fecha</th>\n",
       "      <th>Municipio</th>\n",
       "      <th>casos</th>\n",
       "    </tr>\n",
       "  </thead>\n",
       "  <tbody>\n",
       "    <tr>\n",
       "      <th>0</th>\n",
       "      <td>2003-01-01</td>\n",
       "      <td>Bucaramanga</td>\n",
       "      <td>2</td>\n",
       "    </tr>\n",
       "    <tr>\n",
       "      <th>1</th>\n",
       "      <td>2003-02-01</td>\n",
       "      <td>Floridablanca</td>\n",
       "      <td>1</td>\n",
       "    </tr>\n",
       "    <tr>\n",
       "      <th>2</th>\n",
       "      <td>2003-04-01</td>\n",
       "      <td>Barrancabermeja</td>\n",
       "      <td>1</td>\n",
       "    </tr>\n",
       "    <tr>\n",
       "      <th>3</th>\n",
       "      <td>2003-07-01</td>\n",
       "      <td>Barrancabermeja</td>\n",
       "      <td>1</td>\n",
       "    </tr>\n",
       "    <tr>\n",
       "      <th>4</th>\n",
       "      <td>2003-07-01</td>\n",
       "      <td>Lebrija</td>\n",
       "      <td>1</td>\n",
       "    </tr>\n",
       "    <tr>\n",
       "      <th>...</th>\n",
       "      <td>...</td>\n",
       "      <td>...</td>\n",
       "      <td>...</td>\n",
       "    </tr>\n",
       "    <tr>\n",
       "      <th>2242</th>\n",
       "      <td>2024-09-01</td>\n",
       "      <td>Sabana de torres</td>\n",
       "      <td>5</td>\n",
       "    </tr>\n",
       "    <tr>\n",
       "      <th>2243</th>\n",
       "      <td>2024-09-01</td>\n",
       "      <td>San gil</td>\n",
       "      <td>1</td>\n",
       "    </tr>\n",
       "    <tr>\n",
       "      <th>2244</th>\n",
       "      <td>2024-09-01</td>\n",
       "      <td>San jose de miranda</td>\n",
       "      <td>1</td>\n",
       "    </tr>\n",
       "    <tr>\n",
       "      <th>2245</th>\n",
       "      <td>2024-09-01</td>\n",
       "      <td>Socorro</td>\n",
       "      <td>2</td>\n",
       "    </tr>\n",
       "    <tr>\n",
       "      <th>2246</th>\n",
       "      <td>2024-09-01</td>\n",
       "      <td>Velez</td>\n",
       "      <td>1</td>\n",
       "    </tr>\n",
       "  </tbody>\n",
       "</table>\n",
       "<p>2247 rows × 3 columns</p>\n",
       "</div>"
      ],
      "text/plain": [
       "          Fecha            Municipio  casos\n",
       "0    2003-01-01          Bucaramanga      2\n",
       "1    2003-02-01        Floridablanca      1\n",
       "2    2003-04-01      Barrancabermeja      1\n",
       "3    2003-07-01      Barrancabermeja      1\n",
       "4    2003-07-01              Lebrija      1\n",
       "...         ...                  ...    ...\n",
       "2242 2024-09-01     Sabana de torres      5\n",
       "2243 2024-09-01              San gil      1\n",
       "2244 2024-09-01  San jose de miranda      1\n",
       "2245 2024-09-01              Socorro      2\n",
       "2246 2024-09-01                Velez      1\n",
       "\n",
       "[2247 rows x 3 columns]"
      ]
     },
     "execution_count": 38,
     "metadata": {},
     "output_type": "execute_result"
    }
   ],
   "source": [
    "delitos_mes_df"
   ]
  },
  {
   "cell_type": "code",
   "execution_count": 39,
   "metadata": {},
   "outputs": [
    {
     "name": "stdout",
     "output_type": "stream",
     "text": [
      "          Fecha            Municipio  casos   Latitud   Longitud\n",
      "0    2003-01-01          Bucaramanga      2  7.125517 -73.118262\n",
      "1    2003-02-01        Floridablanca      1  7.062536 -73.085823\n",
      "2    2003-04-01      Barrancabermeja      1  7.067331 -73.852563\n",
      "3    2003-07-01      Barrancabermeja      1  7.067331 -73.852563\n",
      "4    2003-07-01              Lebrija      1  7.113842 -73.217406\n",
      "...         ...                  ...    ...       ...        ...\n",
      "2242 2024-09-01     Sabana de torres      5  7.393942 -73.499886\n",
      "2243 2024-09-01              San gil      1  6.555286 -73.131235\n",
      "2244 2024-09-01  San jose de miranda      1  6.625267 -72.736699\n",
      "2245 2024-09-01              Socorro      2  6.470518 -73.262319\n",
      "2246 2024-09-01                Velez      1  6.242578 -73.705129\n",
      "\n",
      "[2247 rows x 5 columns]\n"
     ]
    }
   ],
   "source": [
    "# Realizar la unión de las tablas por el nombre del municipio\n",
    "delitos_mes_df = pd.merge(delitos_mes_df, df, on=\"Municipio\", how=\"left\")\n",
    "\n",
    "# Mostrar el DataFrame resultante\n",
    "print(delitos_mes_df)"
   ]
  },
  {
   "cell_type": "code",
   "execution_count": 40,
   "metadata": {},
   "outputs": [],
   "source": [
    "delitos_mes_df.to_csv('../data/delitos/delitos_santander.csv', index=False)"
   ]
  },
  {
   "cell_type": "code",
   "execution_count": 41,
   "metadata": {},
   "outputs": [
    {
     "data": {
      "text/html": [
       "<div>\n",
       "<style scoped>\n",
       "    .dataframe tbody tr th:only-of-type {\n",
       "        vertical-align: middle;\n",
       "    }\n",
       "\n",
       "    .dataframe tbody tr th {\n",
       "        vertical-align: top;\n",
       "    }\n",
       "\n",
       "    .dataframe thead th {\n",
       "        text-align: right;\n",
       "    }\n",
       "</style>\n",
       "<table border=\"1\" class=\"dataframe\">\n",
       "  <thead>\n",
       "    <tr style=\"text-align: right;\">\n",
       "      <th></th>\n",
       "      <th>Municipio</th>\n",
       "      <th>Latitud</th>\n",
       "      <th>Longitud</th>\n",
       "      <th>casos</th>\n",
       "    </tr>\n",
       "  </thead>\n",
       "  <tbody>\n",
       "    <tr>\n",
       "      <th>0</th>\n",
       "      <td>Aguada</td>\n",
       "      <td>6.162366</td>\n",
       "      <td>-73.521569</td>\n",
       "      <td>4</td>\n",
       "    </tr>\n",
       "    <tr>\n",
       "      <th>1</th>\n",
       "      <td>Albania</td>\n",
       "      <td>5.758765</td>\n",
       "      <td>-73.915162</td>\n",
       "      <td>3</td>\n",
       "    </tr>\n",
       "    <tr>\n",
       "      <th>2</th>\n",
       "      <td>Aratoca</td>\n",
       "      <td>6.694573</td>\n",
       "      <td>-73.018703</td>\n",
       "      <td>16</td>\n",
       "    </tr>\n",
       "    <tr>\n",
       "      <th>3</th>\n",
       "      <td>Barbosa</td>\n",
       "      <td>5.932603</td>\n",
       "      <td>-73.612437</td>\n",
       "      <td>45</td>\n",
       "    </tr>\n",
       "    <tr>\n",
       "      <th>4</th>\n",
       "      <td>Barichara</td>\n",
       "      <td>6.635716</td>\n",
       "      <td>-73.223442</td>\n",
       "      <td>8</td>\n",
       "    </tr>\n",
       "    <tr>\n",
       "      <th>...</th>\n",
       "      <td>...</td>\n",
       "      <td>...</td>\n",
       "      <td>...</td>\n",
       "      <td>...</td>\n",
       "    </tr>\n",
       "    <tr>\n",
       "      <th>81</th>\n",
       "      <td>Valle de san jose</td>\n",
       "      <td>6.448015</td>\n",
       "      <td>-73.144301</td>\n",
       "      <td>10</td>\n",
       "    </tr>\n",
       "    <tr>\n",
       "      <th>82</th>\n",
       "      <td>Velez</td>\n",
       "      <td>6.242578</td>\n",
       "      <td>-73.705129</td>\n",
       "      <td>52</td>\n",
       "    </tr>\n",
       "    <tr>\n",
       "      <th>83</th>\n",
       "      <td>Vetas</td>\n",
       "      <td>7.309264</td>\n",
       "      <td>-72.871808</td>\n",
       "      <td>30</td>\n",
       "    </tr>\n",
       "    <tr>\n",
       "      <th>84</th>\n",
       "      <td>Villanueva</td>\n",
       "      <td>6.671239</td>\n",
       "      <td>-73.175398</td>\n",
       "      <td>4</td>\n",
       "    </tr>\n",
       "    <tr>\n",
       "      <th>85</th>\n",
       "      <td>Zapatoca</td>\n",
       "      <td>6.816660</td>\n",
       "      <td>-73.268653</td>\n",
       "      <td>16</td>\n",
       "    </tr>\n",
       "  </tbody>\n",
       "</table>\n",
       "<p>86 rows × 4 columns</p>\n",
       "</div>"
      ],
      "text/plain": [
       "            Municipio   Latitud   Longitud  casos\n",
       "0              Aguada  6.162366 -73.521569      4\n",
       "1             Albania  5.758765 -73.915162      3\n",
       "2             Aratoca  6.694573 -73.018703     16\n",
       "3             Barbosa  5.932603 -73.612437     45\n",
       "4           Barichara  6.635716 -73.223442      8\n",
       "..                ...       ...        ...    ...\n",
       "81  Valle de san jose  6.448015 -73.144301     10\n",
       "82              Velez  6.242578 -73.705129     52\n",
       "83              Vetas  7.309264 -72.871808     30\n",
       "84         Villanueva  6.671239 -73.175398      4\n",
       "85           Zapatoca  6.816660 -73.268653     16\n",
       "\n",
       "[86 rows x 4 columns]"
      ]
     },
     "execution_count": 41,
     "metadata": {},
     "output_type": "execute_result"
    }
   ],
   "source": [
    "merged_df1 = delitos_mes_df.groupby(['Municipio','Latitud', 'Longitud'])['casos'].sum().reset_index()\n",
    "merged_df1['Municipio'] = merged_df1['Municipio'].str.capitalize()\n",
    "merged_df1"
   ]
  },
  {
   "cell_type": "code",
   "execution_count": 43,
   "metadata": {},
   "outputs": [],
   "source": [
    "merged_df1.to_csv('../data/delitos/delitos_santander_total.csv', index=False)"
   ]
  },
  {
   "cell_type": "code",
   "execution_count": 7,
   "metadata": {},
   "outputs": [
    {
     "data": {
      "image/png": "[encoded data removed]",
      "text/plain": [
       "<Figure size 1000x800 with 2 Axes>"
      ]
     },
     "metadata": {},
     "output_type": "display_data"
    }
   ],
   "source": [
    "# Ruta de los archivos .npy\n",
    "npy_folder_path = '../data/tmean_interp_final/npy/*.npy'\n",
    "npy_files = glob.glob(npy_folder_path)\n",
    "\n",
    "# Inicializar una matriz acumuladora para la suma de todas las matrices de 700x300\n",
    "sum_matrix = None\n",
    "\n",
    "# Cargar y sumar todas las matrices npy\n",
    "for file in npy_files:\n",
    "    data = np.load(file)\n",
    "    if sum_matrix is None:\n",
    "        sum_matrix = data\n",
    "    else:\n",
    "        sum_matrix += data\n",
    "\n",
    "# Calcular la media dividiendo la suma por el número de archivos\n",
    "mean_temperature_matrix = sum_matrix / len(npy_files)\n",
    "\n",
    "\n",
    "# Cargar el archivo de límites administrativos de Colombia con Geopandas\n",
    "colombia_shapefile = '../data/aoi/Departamento.shp'  # Archivo SHP o GeoJSON con límites de municipios\n",
    "gdf = gpd.read_file(colombia_shapefile)\n",
    "\n",
    "# Reproyectar los datos geográficos a WGS84 (EPSG:4326)\n",
    "if gdf.crs != \"EPSG:4326\":\n",
    "    gdf = gdf.to_crs(\"EPSG:4326\")\n",
    "\n",
    "# Filtrar para mostrar solo el departamento de Santander\n",
    "santander_gdf = gdf[gdf['DeNombre'] == 'Santander']  # Asegúrate de que coincida con el nombre en el archivo\n",
    "\n",
    "# Definir la región de límites (longitud mínima, longitud máxima, latitud mínima, latitud máxima)\n",
    "region = (-74.6, -72.4, 5.5, 8.2)\n",
    "\n",
    "# Crear el mapa de temperatura promedio\n",
    "plt.figure(figsize=(10, 8))\n",
    "extent = [region[0], region[1], region[2], region[3]]\n",
    "mask = np.load(\"../data/mask.npy\")\n",
    "plt.imshow(mean_temperature_matrix * mask, extent=extent, origin='lower', cmap='coolwarm', aspect='auto')\n",
    "plt.colorbar(label='Temperatura Media (°C)')\n",
    "plt.xlabel('Longitud')\n",
    "plt.ylabel('Latitud')\n",
    "plt.title('Temperatura Media Promedio por Región')\n",
    "\n",
    "santander_gdf.boundary.plot(ax=plt.gca(), linewidth=1, edgecolor=\"black\", label=\"Límites de Santander\")\n",
    "# Graficar los puntos de delitos como scatter plot\n",
    "plt.scatter(\n",
    "    merged_df['Longitud'], merged_df['Latitud'],\n",
    "    c='green', s=merged_df['casos']*50, alpha=0.6, label='Casos de Delitos'\n",
    ")\n",
    "\n",
    "# Agregar el nombre de cada municipio en el plot con la primera letra en mayúscula\n",
    "for i, row in merged_df.iterrows():\n",
    "    municipio_nombre = row['Municipio'].capitalize()  # Capitalizar solo la primera letra\n",
    "    plt.text(row['Longitud'], row['Latitud'], municipio_nombre, fontsize=8, ha='right', color='black')\n",
    "\n",
    "plt.legend()\n",
    "plt.savefig('../data/delitos/delitos_temp_santander.png', bbox_inches='tight', dpi=400)\n",
    "plt.show()"
   ]
  },
  {
   "cell_type": "code",
   "execution_count": null,
   "metadata": {},
   "outputs": [],
   "source": [
    "np.save('../data/delitos/temperatura_mean.npy',mean_temperature_matrix)"
   ]
  },
  {
   "cell_type": "code",
   "execution_count": 9,
   "metadata": {},
   "outputs": [
    {
     "data": {
      "image/png": "[encoded data removed]",
      "text/plain": [
       "<Figure size 1000x800 with 2 Axes>"
      ]
     },
     "metadata": {},
     "output_type": "display_data"
    }
   ],
   "source": [
    "# Ruta de los archivos .npy\n",
    "npy_folder_path = '../data/precipitacion_interp_final/npy/*.npy'\n",
    "npy_files = glob.glob(npy_folder_path)\n",
    "\n",
    "# Inicializar una matriz acumuladora para la suma de todas las matrices de 700x300\n",
    "sum_matrix = None\n",
    "\n",
    "# Cargar y sumar todas las matrices npy\n",
    "for file in npy_files:\n",
    "    data = np.load(file)\n",
    "    if sum_matrix is None:\n",
    "        sum_matrix = data\n",
    "    else:\n",
    "        sum_matrix += data\n",
    "\n",
    "# Calcular la media dividiendo la suma por el número de archivos\n",
    "mean_precipitacion_matrix = sum_matrix / len(npy_files)\n",
    "\n",
    "# Crear el mapa de temperatura promedio\n",
    "plt.figure(figsize=(10, 8))\n",
    "extent = [region[0], region[1], region[2], region[3]]\n",
    "plt.imshow(mean_precipitacion_matrix * mask, extent=extent, origin='lower', cmap='Blues', aspect='auto')\n",
    "plt.colorbar(label='Precipitación media')\n",
    "plt.xlabel('Longitud')\n",
    "plt.ylabel('Latitud')\n",
    "plt.title('Precipitación Media Promedio por Región')\n",
    "\n",
    "# Dibujar los límites de Santander\n",
    "santander_gdf.boundary.plot(ax=plt.gca(), linewidth=1, edgecolor=\"black\", label=\"Límites de Santander\")\n",
    "\n",
    "# Graficar los puntos de delitos como scatter plot\n",
    "plt.scatter(\n",
    "    merged_df['Longitud'], merged_df['Latitud'],\n",
    "    c='green', s=merged_df['casos']*50, alpha=0.6, label='Casos de Delitos'\n",
    ")\n",
    "\n",
    "# Agregar el nombre de cada municipio en el plot con la primera letra en mayúscula\n",
    "for i, row in merged_df.iterrows():\n",
    "    municipio_nombre = row['Municipio'].capitalize()  # Capitalizar solo la primera letra\n",
    "    plt.text(row['Longitud'], row['Latitud'], municipio_nombre, fontsize=8, ha='right', color='black')\n",
    "\n",
    "plt.legend()\n",
    "plt.savefig('../data/delitos/delitos_prec_santander.png', bbox_inches='tight',dpi=400)\n",
    "plt.show()"
   ]
  },
  {
   "cell_type": "code",
   "execution_count": null,
   "metadata": {},
   "outputs": [],
   "source": [
    "np.save('../data/delitos/precipitacion_mean.npy',mean_precipitacion_matrix)"
   ]
  },
  {
   "cell_type": "code",
   "execution_count": null,
   "metadata": {},
   "outputs": [
    {
     "data": {
      "application/vnd.plotly.v1+json": {
       "config": {
        "plotlyServerURL": "https://plot.ly"
       },
       "data": [
        {
         "customdata": [
          [
           4,
           6.162366,
           -73.5215686
          ],
          [
           3,
           5.7587654,
           -73.9151617
          ],
          [
           16,
           6.6945729,
           -73.0187027
          ],
          [
           45,
           5.9326035,
           -73.6124368
          ],
          [
           8,
           6.6357156,
           -73.2234417
          ],
          [
           647,
           7.0673313,
           -73.8525627
          ],
          [
           32,
           6.9006397,
           -73.2835591
          ],
          [
           21,
           5.9899805,
           -73.770548
          ],
          [
           485,
           7.1255169,
           -73.1182624
          ],
          [
           66,
           7.3480915,
           -72.9459294
          ],
          [
           25,
           6.5291798,
           -72.6982619
          ],
          [
           3,
           6.6273516,
           -72.6260967
          ],
          [
           1,
           6.74590095,
           -72.92942881668318
          ],
          [
           9,
           6.8435992,
           -72.6939627
          ],
          [
           29,
           6.2881742,
           -73.148289
          ],
          [
           3,
           7.2807986,
           -72.9682259
          ],
          [
           7,
           6.3443969,
           -73.3727428
          ],
          [
           5,
           6.0624774,
           -73.6372532
          ],
          [
           229,
           6.3145415,
           -73.9496809
          ],
          [
           13,
           6.7682934,
           -72.694484
          ],
          [
           4,
           6.3559746,
           -73.2409632
          ],
          [
           3,
           6.290737,
           -73.4745564
          ],
          [
           4,
           6.24050595,
           -72.99173070370512
          ],
          [
           14,
           6.61280515,
           -73.01687869333793
          ],
          [
           36,
           6.6986924,
           -73.5115695
          ],
          [
           5,
           6.2452658,
           -73.4975606
          ],
          [
           14,
           6.0855317499999995,
           -73.93364854994327
          ],
          [
           34,
           7.52300075,
           -73.19786585908766
          ],
          [
           2,
           6.1380098,
           -73.0986366
          ],
          [
           38,
           6.6498446,
           -72.68173548149151
          ],
          [
           23,
           5.786913200000001,
           -73.97024265744398
          ],
          [
           98,
           7.0625358,
           -73.0858228
          ],
          [
           3,
           6.6379098,
           -73.2874531
          ],
          [
           28,
           5.91628015,
           -73.31589722541469
          ],
          [
           155,
           7.0732333,
           -73.1689196
          ],
          [
           4,
           6.8760761,
           -72.8557642
          ],
          [
           7,
           6.2468169,
           -73.4181815
          ],
          [
           7,
           6.3083058,
           -73.3212326
          ],
          [
           9,
           5.9542651,
           -73.6997882
          ],
          [
           2,
           6.035725899999999,
           -73.56632393257743
          ],
          [
           1,
           6.035725899999999,
           -73.56632393257743
          ],
          [
           2,
           6.5621066,
           -73.36473811438437
          ],
          [
           14,
           5.84962975,
           -73.83068053057991
          ],
          [
           30,
           5.8588396,
           -73.9658291
          ],
          [
           9,
           6.1785935,
           -73.5895841
          ],
          [
           86,
           6.2205334,
           -73.8113754
          ],
          [
           97,
           7.1138415,
           -73.2174056
          ],
          [
           6,
           6.8196383,
           -73.09437586724192
          ],
          [
           1,
           6.5060841,
           -72.5925353
          ],
          [
           13,
           6.699661,
           -72.7324563
          ],
          [
           9,
           7.3230808,
           -73.0155679
          ],
          [
           38,
           6.50244055,
           -72.97679199973126
          ],
          [
           7,
           6.6361117499999995,
           -72.82142609018902
          ],
          [
           10,
           6.3406733,
           -73.1220123
          ],
          [
           24,
           6.23148355,
           -73.27403107175154
          ],
          [
           3,
           6.3438974,
           -72.816606
          ],
          [
           1,
           6.538635,
           -73.2916928
          ],
          [
           7,
           6.4066247,
           -73.287918
          ],
          [
           9,
           6.416541,
           -73.1693988
          ],
          [
           97,
           6.9874808,
           -73.0504129
          ],
          [
           8,
           6.5322505,
           -73.1732298
          ],
          [
           56,
           5.8770962,
           -73.6791063
          ],
          [
           76,
           6.70128855,
           -73.9774782111397
          ],
          [
           87,
           7.3480175,
           -73.8979783
          ],
          [
           112,
           7.4792888,
           -73.38270064117279
          ],
          [
           353,
           7.3939416,
           -73.4998859
          ],
          [
           7,
           6.8100668,
           -72.8506351
          ],
          [
           3,
           6.10322645,
           -73.53013869505091
          ],
          [
           58,
           6.5552856,
           -73.1312353
          ],
          [
           1,
           6.4710187999999995,
           -72.84519610985728
          ],
          [
           60,
           6.62526745,
           -72.7366986177611
          ],
          [
           16,
           6.5759286,
           -72.6455489
          ],
          [
           166,
           6.92877925,
           -73.52075434629629
          ],
          [
           7,
           6.9632242,
           -72.90556454913832
          ],
          [
           5,
           6.3387975,
           -73.616366
          ],
          [
           40,
           6.682480549999999,
           -73.79169247714768
          ],
          [
           55,
           6.470518,
           -73.2623187
          ],
          [
           15,
           6.1257535999999995,
           -73.36271466241944
          ],
          [
           10,
           6.015965,
           -74.012109978448
          ],
          [
           11,
           7.3664929,
           -72.9847362
          ],
          [
           12,
           7.2020629,
           -72.9663733
          ],
          [
           10,
           6.4480153,
           -73.1443007
          ],
          [
           52,
           6.2425777,
           -73.70512852391471
          ],
          [
           30,
           7.3092643,
           -72.8718075
          ],
          [
           4,
           6.6712394,
           -73.1753984
          ],
          [
           16,
           6.8166596,
           -73.2686529
          ]
         ],
         "hovertemplate": "<b>%{hovertext}</b><br><br>casos=%{marker.color}<extra></extra>",
         "hovertext": [
          "Aguada",
          "Albania",
          "Aratoca",
          "Barbosa",
          "Barichara",
          "Barrancabermeja",
          "Betulia",
          "Bolivar",
          "Bucaramanga",
          "California",
          "Capitanejo",
          "Carcasi",
          "Cepita",
          "Cerrito",
          "Charala",
          "Charta",
          "Chima",
          "Chipata",
          "Cimitarra",
          "Concepcion",
          "Confines",
          "Contratacion",
          "Coromoro",
          "Curiti",
          "El carmen de chucuri",
          "El guacamayo",
          "El peñon",
          "El playon",
          "Encino",
          "Enciso",
          "Florian",
          "Floridablanca",
          "Galan",
          "Gambita",
          "Giron",
          "Guaca",
          "Guadalupe",
          "Guapota",
          "Guavata",
          "Guepsa",
          "Güepsa",
          "Hato",
          "Jesus maria",
          "La belleza",
          "La paz",
          "Landazuri",
          "Lebrija",
          "Los santos",
          "Macaravita",
          "Malaga",
          "Matanza",
          "Mogotes",
          "Molagavita",
          "Ocamonte",
          "Oiba",
          "Onzaga",
          "Palmar",
          "Palmas del socorro",
          "Paramo",
          "Piedecuesta",
          "Pinchote",
          "Puente nacional",
          "Puerto parra",
          "Puerto wilches",
          "Rionegro",
          "Sabana de torres",
          "San andres",
          "San benito",
          "San gil",
          "San joaquin",
          "San jose de miranda",
          "San miguel",
          "San vicente de chucuri",
          "Santa barbara",
          "Santa helena del opon",
          "Simacota",
          "Socorro",
          "Suaita",
          "Sucre",
          "Surata",
          "Tona",
          "Valle de san jose",
          "Velez",
          "Vetas",
          "Villanueva",
          "Zapatoca"
         ],
         "lat": [
          6.162366,
          5.7587654,
          6.6945729,
          5.9326035,
          6.6357156,
          7.0673313,
          6.9006397,
          5.9899805,
          7.1255169,
          7.3480915,
          6.5291798,
          6.6273516,
          6.74590095,
          6.8435992,
          6.2881742,
          7.2807986,
          6.3443969,
          6.0624774,
          6.3145415,
          6.7682934,
          6.3559746,
          6.290737,
          6.24050595,
          6.61280515,
          6.6986924,
          6.2452658,
          6.0855317499999995,
          7.52300075,
          6.1380098,
          6.6498446,
          5.786913200000001,
          7.0625358,
          6.6379098,
          5.91628015,
          7.0732333,
          6.8760761,
          6.2468169,
          6.3083058,
          5.9542651,
          6.035725899999999,
          6.035725899999999,
          6.5621066,
          5.84962975,
          5.8588396,
          6.1785935,
          6.2205334,
          7.1138415,
          6.8196383,
          6.5060841,
          6.699661,
          7.3230808,
          6.50244055,
          6.6361117499999995,
          6.3406733,
          6.23148355,
          6.3438974,
          6.538635,
          6.4066247,
          6.416541,
          6.9874808,
          6.5322505,
          5.8770962,
          6.70128855,
          7.3480175,
          7.4792888,
          7.3939416,
          6.8100668,
          6.10322645,
          6.5552856,
          6.4710187999999995,
          6.62526745,
          6.5759286,
          6.92877925,
          6.9632242,
          6.3387975,
          6.682480549999999,
          6.470518,
          6.1257535999999995,
          6.015965,
          7.3664929,
          7.2020629,
          6.4480153,
          6.2425777,
          7.3092643,
          6.6712394,
          6.8166596
         ],
         "legendgroup": "",
         "lon": [
          -73.5215686,
          -73.9151617,
          -73.0187027,
          -73.6124368,
          -73.2234417,
          -73.8525627,
          -73.2835591,
          -73.770548,
          -73.1182624,
          -72.9459294,
          -72.6982619,
          -72.6260967,
          -72.92942881668318,
          -72.6939627,
          -73.148289,
          -72.9682259,
          -73.3727428,
          -73.6372532,
          -73.9496809,
          -72.694484,
          -73.2409632,
          -73.4745564,
          -72.99173070370512,
          -73.01687869333793,
          -73.5115695,
          -73.4975606,
          -73.93364854994327,
          -73.19786585908766,
          -73.0986366,
          -72.68173548149151,
          -73.97024265744398,
          -73.0858228,
          -73.2874531,
          -73.31589722541469,
          -73.1689196,
          -72.8557642,
          -73.4181815,
          -73.3212326,
          -73.6997882,
          -73.56632393257743,
          -73.56632393257743,
          -73.36473811438437,
          -73.83068053057991,
          -73.9658291,
          -73.5895841,
          -73.8113754,
          -73.2174056,
          -73.09437586724192,
          -72.5925353,
          -72.7324563,
          -73.0155679,
          -72.97679199973126,
          -72.82142609018902,
          -73.1220123,
          -73.27403107175154,
          -72.816606,
          -73.2916928,
          -73.287918,
          -73.1693988,
          -73.0504129,
          -73.1732298,
          -73.6791063,
          -73.9774782111397,
          -73.8979783,
          -73.38270064117279,
          -73.4998859,
          -72.8506351,
          -73.53013869505091,
          -73.1312353,
          -72.84519610985728,
          -72.7366986177611,
          -72.6455489,
          -73.52075434629629,
          -72.90556454913832,
          -73.616366,
          -73.79169247714768,
          -73.2623187,
          -73.36271466241944,
          -74.012109978448,
          -72.9847362,
          -72.9663733,
          -73.1443007,
          -73.70512852391471,
          -72.8718075,
          -73.1753984,
          -73.2686529
         ],
         "marker": {
          "color": [
           4,
           3,
           16,
           45,
           8,
           647,
           32,
           21,
           485,
           66,
           25,
           3,
           1,
           9,
           29,
           3,
           7,
           5,
           229,
           13,
           4,
           3,
           4,
           14,
           36,
           5,
           14,
           34,
           2,
           38,
           23,
           98,
           3,
           28,
           155,
           4,
           7,
           7,
           9,
           2,
           1,
           2,
           14,
           30,
           9,
           86,
           97,
           6,
           1,
           13,
           9,
           38,
           7,
           10,
           24,
           3,
           1,
           7,
           9,
           97,
           8,
           56,
           76,
           87,
           112,
           353,
           7,
           3,
           58,
           1,
           60,
           16,
           166,
           7,
           5,
           40,
           55,
           15,
           10,
           11,
           12,
           10,
           52,
           30,
           4,
           16
          ],
          "coloraxis": "coloraxis",
          "size": [
           4,
           3,
           16,
           45,
           8,
           647,
           32,
           21,
           485,
           66,
           25,
           3,
           1,
           9,
           29,
           3,
           7,
           5,
           229,
           13,
           4,
           3,
           4,
           14,
           36,
           5,
           14,
           34,
           2,
           38,
           23,
           98,
           3,
           28,
           155,
           4,
           7,
           7,
           9,
           2,
           1,
           2,
           14,
           30,
           9,
           86,
           97,
           6,
           1,
           13,
           9,
           38,
           7,
           10,
           24,
           3,
           1,
           7,
           9,
           97,
           8,
           56,
           76,
           87,
           112,
           353,
           7,
           3,
           58,
           1,
           60,
           16,
           166,
           7,
           5,
           40,
           55,
           15,
           10,
           11,
           12,
           10,
           52,
           30,
           4,
           16
          ],
          "sizemode": "area",
          "sizeref": 0.2588
         },
         "mode": "markers",
         "name": "",
         "showlegend": false,
         "subplot": "mapbox",
         "type": "scattermapbox"
        }
       ],
       "layout": {
        "coloraxis": {
         "colorbar": {
          "title": {
           "text": "casos"
          }
         },
         "colorscale": [
          [
           0,
           "#0d0887"
          ],
          [
           0.1111111111111111,
           "#46039f"
          ],
          [
           0.2222222222222222,
           "#7201a8"
          ],
          [
           0.3333333333333333,
           "#9c179e"
          ],
          [
           0.4444444444444444,
           "#bd3786"
          ],
          [
           0.5555555555555556,
           "#d8576b"
          ],
          [
           0.6666666666666666,
           "#ed7953"
          ],
          [
           0.7777777777777778,
           "#fb9f3a"
          ],
          [
           0.8888888888888888,
           "#fdca26"
          ],
          [
           1,
           "#f0f921"
          ]
         ]
        },
        "legend": {
         "itemsizing": "constant",
         "tracegroupgap": 0
        },
        "mapbox": {
         "center": {
          "lat": 6.850508493611539,
          "lon": -73.65118472073075
         },
         "domain": {
          "x": [
           0,
           1
          ],
          "y": [
           0,
           1
          ]
         },
         "style": "carto-positron",
         "zoom": 7
        },
        "template": {
         "data": {
          "bar": [
           {
            "error_x": {
             "color": "#2a3f5f"
            },
            "error_y": {
             "color": "#2a3f5f"
            },
            "marker": {
             "line": {
              "color": "#E5ECF6",
              "width": 0.5
             },
             "pattern": {
              "fillmode": "overlay",
              "size": 10,
              "solidity": 0.2
             }
            },
            "type": "bar"
           }
          ],
          "barpolar": [
           {
            "marker": {
             "line": {
              "color": "#E5ECF6",
              "width": 0.5
             },
             "pattern": {
              "fillmode": "overlay",
              "size": 10,
              "solidity": 0.2
             }
            },
            "type": "barpolar"
           }
          ],
          "carpet": [
           {
            "aaxis": {
             "endlinecolor": "#2a3f5f",
             "gridcolor": "white",
             "linecolor": "white",
             "minorgridcolor": "white",
             "startlinecolor": "#2a3f5f"
            },
            "baxis": {
             "endlinecolor": "#2a3f5f",
             "gridcolor": "white",
             "linecolor": "white",
             "minorgridcolor": "white",
             "startlinecolor": "#2a3f5f"
            },
            "type": "carpet"
           }
          ],
          "choropleth": [
           {
            "colorbar": {
             "outlinewidth": 0,
             "ticks": ""
            },
            "type": "choropleth"
           }
          ],
          "contour": [
           {
            "colorbar": {
             "outlinewidth": 0,
             "ticks": ""
            },
            "colorscale": [
             [
              0,
              "#0d0887"
             ],
             [
              0.1111111111111111,
              "#46039f"
             ],
             [
              0.2222222222222222,
              "#7201a8"
             ],
             [
              0.3333333333333333,
              "#9c179e"
             ],
             [
              0.4444444444444444,
              "#bd3786"
             ],
             [
              0.5555555555555556,
              "#d8576b"
             ],
             [
              0.6666666666666666,
              "#ed7953"
             ],
             [
              0.7777777777777778,
              "#fb9f3a"
             ],
             [
              0.8888888888888888,
              "#fdca26"
             ],
             [
              1,
              "#f0f921"
             ]
            ],
            "type": "contour"
           }
          ],
          "contourcarpet": [
           {
            "colorbar": {
             "outlinewidth": 0,
             "ticks": ""
            },
            "type": "contourcarpet"
           }
          ],
          "heatmap": [
           {
            "colorbar": {
             "outlinewidth": 0,
             "ticks": ""
            },
            "colorscale": [
             [
              0,
              "#0d0887"
             ],
             [
              0.1111111111111111,
              "#46039f"
             ],
             [
              0.2222222222222222,
              "#7201a8"
             ],
             [
              0.3333333333333333,
              "#9c179e"
             ],
             [
              0.4444444444444444,
              "#bd3786"
             ],
             [
              0.5555555555555556,
              "#d8576b"
             ],
             [
              0.6666666666666666,
              "#ed7953"
             ],
             [
              0.7777777777777778,
              "#fb9f3a"
             ],
             [
              0.8888888888888888,
              "#fdca26"
             ],
             [
              1,
              "#f0f921"
             ]
            ],
            "type": "heatmap"
           }
          ],
          "heatmapgl": [
           {
            "colorbar": {
             "outlinewidth": 0,
             "ticks": ""
            },
            "colorscale": [
             [
              0,
              "#0d0887"
             ],
             [
              0.1111111111111111,
              "#46039f"
             ],
             [
              0.2222222222222222,
              "#7201a8"
             ],
             [
              0.3333333333333333,
              "#9c179e"
             ],
             [
              0.4444444444444444,
              "#bd3786"
             ],
             [
              0.5555555555555556,
              "#d8576b"
             ],
             [
              0.6666666666666666,
              "#ed7953"
             ],
             [
              0.7777777777777778,
              "#fb9f3a"
             ],
             [
              0.8888888888888888,
              "#fdca26"
             ],
             [
              1,
              "#f0f921"
             ]
            ],
            "type": "heatmapgl"
           }
          ],
          "histogram": [
           {
            "marker": {
             "pattern": {
              "fillmode": "overlay",
              "size": 10,
              "solidity": 0.2
             }
            },
            "type": "histogram"
           }
          ],
          "histogram2d": [
           {
            "colorbar": {
             "outlinewidth": 0,
             "ticks": ""
            },
            "colorscale": [
             [
              0,
              "#0d0887"
             ],
             [
              0.1111111111111111,
              "#46039f"
             ],
             [
              0.2222222222222222,
              "#7201a8"
             ],
             [
              0.3333333333333333,
              "#9c179e"
             ],
             [
              0.4444444444444444,
              "#bd3786"
             ],
             [
              0.5555555555555556,
              "#d8576b"
             ],
             [
              0.6666666666666666,
              "#ed7953"
             ],
             [
              0.7777777777777778,
              "#fb9f3a"
             ],
             [
              0.8888888888888888,
              "#fdca26"
             ],
             [
              1,
              "#f0f921"
             ]
            ],
            "type": "histogram2d"
           }
          ],
          "histogram2dcontour": [
           {
            "colorbar": {
             "outlinewidth": 0,
             "ticks": ""
            },
            "colorscale": [
             [
              0,
              "#0d0887"
             ],
             [
              0.1111111111111111,
              "#46039f"
             ],
             [
              0.2222222222222222,
              "#7201a8"
             ],
             [
              0.3333333333333333,
              "#9c179e"
             ],
             [
              0.4444444444444444,
              "#bd3786"
             ],
             [
              0.5555555555555556,
              "#d8576b"
             ],
             [
              0.6666666666666666,
              "#ed7953"
             ],
             [
              0.7777777777777778,
              "#fb9f3a"
             ],
             [
              0.8888888888888888,
              "#fdca26"
             ],
             [
              1,
              "#f0f921"
             ]
            ],
            "type": "histogram2dcontour"
           }
          ],
          "mesh3d": [
           {
            "colorbar": {
             "outlinewidth": 0,
             "ticks": ""
            },
            "type": "mesh3d"
           }
          ],
          "parcoords": [
           {
            "line": {
             "colorbar": {
              "outlinewidth": 0,
              "ticks": ""
             }
            },
            "type": "parcoords"
           }
          ],
          "pie": [
           {
            "automargin": true,
            "type": "pie"
           }
          ],
          "scatter": [
           {
            "fillpattern": {
             "fillmode": "overlay",
             "size": 10,
             "solidity": 0.2
            },
            "type": "scatter"
           }
          ],
          "scatter3d": [
           {
            "line": {
             "colorbar": {
              "outlinewidth": 0,
              "ticks": ""
             }
            },
            "marker": {
             "colorbar": {
              "outlinewidth": 0,
              "ticks": ""
             }
            },
            "type": "scatter3d"
           }
          ],
          "scattercarpet": [
           {
            "marker": {
             "colorbar": {
              "outlinewidth": 0,
              "ticks": ""
             }
            },
            "type": "scattercarpet"
           }
          ],
          "scattergeo": [
           {
            "marker": {
             "colorbar": {
              "outlinewidth": 0,
              "ticks": ""
             }
            },
            "type": "scattergeo"
           }
          ],
          "scattergl": [
           {
            "marker": {
             "colorbar": {
              "outlinewidth": 0,
              "ticks": ""
             }
            },
            "type": "scattergl"
           }
          ],
          "scattermapbox": [
           {
            "marker": {
             "colorbar": {
              "outlinewidth": 0,
              "ticks": ""
             }
            },
            "type": "scattermapbox"
           }
          ],
          "scatterpolar": [
           {
            "marker": {
             "colorbar": {
              "outlinewidth": 0,
              "ticks": ""
             }
            },
            "type": "scatterpolar"
           }
          ],
          "scatterpolargl": [
           {
            "marker": {
             "colorbar": {
              "outlinewidth": 0,
              "ticks": ""
             }
            },
            "type": "scatterpolargl"
           }
          ],
          "scatterternary": [
           {
            "marker": {
             "colorbar": {
              "outlinewidth": 0,
              "ticks": ""
             }
            },
            "type": "scatterternary"
           }
          ],
          "surface": [
           {
            "colorbar": {
             "outlinewidth": 0,
             "ticks": ""
            },
            "colorscale": [
             [
              0,
              "#0d0887"
             ],
             [
              0.1111111111111111,
              "#46039f"
             ],
             [
              0.2222222222222222,
              "#7201a8"
             ],
             [
              0.3333333333333333,
              "#9c179e"
             ],
             [
              0.4444444444444444,
              "#bd3786"
             ],
             [
              0.5555555555555556,
              "#d8576b"
             ],
             [
              0.6666666666666666,
              "#ed7953"
             ],
             [
              0.7777777777777778,
              "#fb9f3a"
             ],
             [
              0.8888888888888888,
              "#fdca26"
             ],
             [
              1,
              "#f0f921"
             ]
            ],
            "type": "surface"
           }
          ],
          "table": [
           {
            "cells": {
             "fill": {
              "color": "#EBF0F8"
             },
             "line": {
              "color": "white"
             }
            },
            "header": {
             "fill": {
              "color": "#C8D4E3"
             },
             "line": {
              "color": "white"
             }
            },
            "type": "table"
           }
          ]
         },
         "layout": {
          "annotationdefaults": {
           "arrowcolor": "#2a3f5f",
           "arrowhead": 0,
           "arrowwidth": 1
          },
          "autotypenumbers": "strict",
          "coloraxis": {
           "colorbar": {
            "outlinewidth": 0,
            "ticks": ""
           }
          },
          "colorscale": {
           "diverging": [
            [
             0,
             "#8e0152"
            ],
            [
             0.1,
             "#c51b7d"
            ],
            [
             0.2,
             "#de77ae"
            ],
            [
             0.3,
             "#f1b6da"
            ],
            [
             0.4,
             "#fde0ef"
            ],
            [
             0.5,
             "#f7f7f7"
            ],
            [
             0.6,
             "#e6f5d0"
            ],
            [
             0.7,
             "#b8e186"
            ],
            [
             0.8,
             "#7fbc41"
            ],
            [
             0.9,
             "#4d9221"
            ],
            [
             1,
             "#276419"
            ]
           ],
           "sequential": [
            [
             0,
             "#0d0887"
            ],
            [
             0.1111111111111111,
             "#46039f"
            ],
            [
             0.2222222222222222,
             "#7201a8"
            ],
            [
             0.3333333333333333,
             "#9c179e"
            ],
            [
             0.4444444444444444,
             "#bd3786"
            ],
            [
             0.5555555555555556,
             "#d8576b"
            ],
            [
             0.6666666666666666,
             "#ed7953"
            ],
            [
             0.7777777777777778,
             "#fb9f3a"
            ],
            [
             0.8888888888888888,
             "#fdca26"
            ],
            [
             1,
             "#f0f921"
            ]
           ],
           "sequentialminus": [
            [
             0,
             "#0d0887"
            ],
            [
             0.1111111111111111,
             "#46039f"
            ],
            [
             0.2222222222222222,
             "#7201a8"
            ],
            [
             0.3333333333333333,
             "#9c179e"
            ],
            [
             0.4444444444444444,
             "#bd3786"
            ],
            [
             0.5555555555555556,
             "#d8576b"
            ],
            [
             0.6666666666666666,
             "#ed7953"
            ],
            [
             0.7777777777777778,
             "#fb9f3a"
            ],
            [
             0.8888888888888888,
             "#fdca26"
            ],
            [
             1,
             "#f0f921"
            ]
           ]
          },
          "colorway": [
           "#636efa",
           "#EF553B",
           "#00cc96",
           "#ab63fa",
           "#FFA15A",
           "#19d3f3",
           "#FF6692",
           "#B6E880",
           "#FF97FF",
           "#FECB52"
          ],
          "font": {
           "color": "#2a3f5f"
          },
          "geo": {
           "bgcolor": "white",
           "lakecolor": "white",
           "landcolor": "#E5ECF6",
           "showlakes": true,
           "showland": true,
           "subunitcolor": "white"
          },
          "hoverlabel": {
           "align": "left"
          },
          "hovermode": "closest",
          "mapbox": {
           "style": "light"
          },
          "paper_bgcolor": "white",
          "plot_bgcolor": "#E5ECF6",
          "polar": {
           "angularaxis": {
            "gridcolor": "white",
            "linecolor": "white",
            "ticks": ""
           },
           "bgcolor": "#E5ECF6",
           "radialaxis": {
            "gridcolor": "white",
            "linecolor": "white",
            "ticks": ""
           }
          },
          "scene": {
           "xaxis": {
            "backgroundcolor": "#E5ECF6",
            "gridcolor": "white",
            "gridwidth": 2,
            "linecolor": "white",
            "showbackground": true,
            "ticks": "",
            "zerolinecolor": "white"
           },
           "yaxis": {
            "backgroundcolor": "#E5ECF6",
            "gridcolor": "white",
            "gridwidth": 2,
            "linecolor": "white",
            "showbackground": true,
            "ticks": "",
            "zerolinecolor": "white"
           },
           "zaxis": {
            "backgroundcolor": "#E5ECF6",
            "gridcolor": "white",
            "gridwidth": 2,
            "linecolor": "white",
            "showbackground": true,
            "ticks": "",
            "zerolinecolor": "white"
           }
          },
          "shapedefaults": {
           "line": {
            "color": "#2a3f5f"
           }
          },
          "ternary": {
           "aaxis": {
            "gridcolor": "white",
            "linecolor": "white",
            "ticks": ""
           },
           "baxis": {
            "gridcolor": "white",
            "linecolor": "white",
            "ticks": ""
           },
           "bgcolor": "#E5ECF6",
           "caxis": {
            "gridcolor": "white",
            "linecolor": "white",
            "ticks": ""
           }
          },
          "title": {
           "x": 0.05
          },
          "xaxis": {
           "automargin": true,
           "gridcolor": "white",
           "linecolor": "white",
           "ticks": "",
           "title": {
            "standoff": 15
           },
           "zerolinecolor": "white",
           "zerolinewidth": 2
          },
          "yaxis": {
           "automargin": true,
           "gridcolor": "white",
           "linecolor": "white",
           "ticks": "",
           "title": {
            "standoff": 15
           },
           "zerolinecolor": "white",
           "zerolinewidth": 2
          }
         }
        },
        "title": {
         "text": "Casos de Delitos por Municipio en Santander",
         "x": 0.5
        }
       }
      }
     },
     "metadata": {},
     "output_type": "display_data"
    }
   ],
   "source": [
    "import plotly.express as px\n",
    "\n",
    "# Crear el scatter map\n",
    "fig = px.scatter_mapbox(\n",
    "    merged_df1,\n",
    "    lat=\"Latitud\",\n",
    "    lon=\"Longitud\",\n",
    "    size=\"casos\",  # El tamaño de los puntos reflejará el número de casos\n",
    "    color=\"casos\",  # Color para visualizar la cantidad de casos\n",
    "    hover_name=\"Municipio\",  # Mostrar el nombre del municipio al pasar el ratón\n",
    "    hover_data={\"casos\": True, \"Latitud\": False, \"Longitud\": False},  # Mostrar solo el número de casos en el hover\n",
    "    zoom=10,  # Ajustar el nivel de zoom al área de interés\n",
    "    title=\"Casos de Delitos por Municipio en Santander\",\n",
    "    size_max= 50\n",
    ")\n",
    "\n",
    "# Configurar el estilo del mapa\n",
    "fig.update_layout(\n",
    "    mapbox_style=\"carto-positron\",  # Estilo de mapa base\n",
    "    mapbox_zoom=7,  # Nivel de zoom inicial\n",
    "    mapbox_center={\"lat\": merged_df['Latitud'].mean(), \"lon\": merged_df['Longitud'].mean()},\n",
    "    title_x=0.5  # Centrar el título\n",
    ")\n",
    "\n",
    "fig.show()"
   ]
  }
 ],
 "metadata": {
  "kernelspec": {
   "display_name": ".venv",
   "language": "python",
   "name": "python3"
  },
  "language_info": {
   "codemirror_mode": {
    "name": "ipython",
    "version": 3
   },
   "file_extension": ".py",
   "mimetype": "text/x-python",
   "name": "python",
   "nbconvert_exporter": "python",
   "pygments_lexer": "ipython3",
   "version": "3.11.9"
  }
 },
 "nbformat": 4,
 "nbformat_minor": 2
}
